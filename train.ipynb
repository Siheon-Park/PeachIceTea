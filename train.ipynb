{
 "cells": [
  {
   "cell_type": "code",
   "execution_count": 1,
   "metadata": {},
   "outputs": [],
   "source": [
    "import pennylane as qml\n",
    "import pennylane.numpy as np\n",
    "import torch\n",
    "from torch.nn import MSELoss, CrossEntropyLoss\n",
    "from torch.optim import Adam, Adagrad\n",
    "from torch.utils.data.dataloader import DataLoader\n",
    "from torch.utils.data.dataset import Dataset\n",
    "from torch.utils.data import random_split\n",
    "\n",
    "\n",
    "import torchvision\n",
    "import torchvision.transforms as transforms\n",
    "\n",
    "# PyTorch TensorBoard support\n",
    "from torch.utils.tensorboard import SummaryWriter\n",
    "from datetime import datetime"
   ]
  },
  {
   "cell_type": "code",
   "execution_count": 2,
   "metadata": {},
   "outputs": [],
   "source": [
    "EPOCHS = 10\n",
    "SEED = 16\n",
    "TRAINSIZE = 100\n",
    "VALSIZE = 100\n",
    "TESTSIZE = 115"
   ]
  },
  {
   "cell_type": "code",
   "execution_count": 3,
   "metadata": {},
   "outputs": [],
   "source": [
    "from QCNN_circuit_only import QCNN\n",
    "from ansatz import ConvCirc1, PoolingCirc\n",
    "\n",
    "qcnn = QCNN(n_qubits=8, conv_ansatz=ConvCirc1(), pooling_ansatz=PoolingCirc(), stride=1)\n",
    "\n",
    "dev = qml.device('default.qubit', wires=qcnn.total_qubit)\n",
    "\n",
    "@qml.qnode(dev, interface='torch')\n",
    "def circuit(params, data):\n",
    "    qcnn.construct_circuit(params, data)\n",
    "    return qml.expval(qml.PauliZ(0))\n"
   ]
  },
  {
   "cell_type": "code",
   "execution_count": 4,
   "metadata": {},
   "outputs": [],
   "source": [
    "from pandas import read_csv, concat\n",
    "\n",
    "class MyDataset(Dataset):\n",
    "    def __init__(self, file_name):\n",
    "        self.data = read_csv(file_name)\n",
    "\n",
    "    def filter(self, labels):\n",
    "        data_list  = []\n",
    "        for label in labels:\n",
    "            data_list.append(self.data[self.data[\"label\"]==label])\n",
    "        self.data = concat(data_list)\n",
    "\n",
    "    def __getitem__(self, index):\n",
    "        label = self.data.iloc[index]['label']\n",
    "        image = self.data.iloc[index][1:]\n",
    "        return torch.tensor(image), torch.tensor(label)\n",
    "\n",
    "    def __len__(self):\n",
    "        return len(self.data)"
   ]
  },
  {
   "cell_type": "code",
   "execution_count": 5,
   "metadata": {},
   "outputs": [
    {
     "name": "stdout",
     "output_type": "stream",
     "text": [
      "Training set has 100 instances\n",
      "validation set has 100 instances\n",
      "test set has 115 instances\n"
     ]
    }
   ],
   "source": [
    "\n",
    "training_set = MyDataset('dataset_pca.csv') \n",
    "training_set.filter([0, 1])\n",
    "training_set, validation_set = random_split(training_set, [TRAINSIZE, len(training_set)-TRAINSIZE], generator=torch.Generator().manual_seed(SEED))\n",
    "validation_set, test_set = random_split(validation_set, [VALSIZE, len(validation_set)-VALSIZE], generator=torch.Generator().manual_seed(SEED))\n",
    "test_set, _ = random_split(test_set, [TESTSIZE, len(test_set)-TESTSIZE], generator=torch.Generator().manual_seed(SEED))\n",
    "\n",
    "# Create data loaders for our datasets; shuffle for training, not for test\n",
    "training_loader = DataLoader(training_set, batch_size=25, shuffle=True, generator=torch.Generator().manual_seed(SEED))\n",
    "validation_loader = DataLoader(validation_set, batch_size=25, shuffle=False, generator=torch.Generator().manual_seed(SEED))\n",
    "test_loader = DataLoader(test_set, batch_size=25, shuffle=False, generator=torch.Generator().manual_seed(SEED))\n",
    "\n",
    "# ====================================\n",
    "\n",
    "# Report split sizes\n",
    "print('Training set has {} instances'.format(len(training_set)))\n",
    "print('validation set has {} instances'.format(len(validation_set)))\n",
    "print('test set has {} instances'.format(len(test_set)))"
   ]
  },
  {
   "cell_type": "code",
   "execution_count": 6,
   "metadata": {},
   "outputs": [],
   "source": [
    "loss_fn = MSELoss() # TODO: choose loss function\n",
    "params = torch.rand(qcnn.Calculate_Param_Num(), requires_grad=True) # TODO: choose params length\n",
    "\n",
    "optimizer = Adam([params], lr=0.01) # TODO: choose optimizer\n"
   ]
  },
  {
   "cell_type": "code",
   "execution_count": 7,
   "metadata": {},
   "outputs": [
    {
     "data": {
      "application/vnd.jupyter.widget-view+json": {
       "model_id": "5a7fea0ce059480b8ac6f1977bccf49f",
       "version_major": 2,
       "version_minor": 0
      },
      "text/plain": [
       "1:   0%|          | 0/4 [00:00<?, ?it/s]"
      ]
     },
     "metadata": {},
     "output_type": "display_data"
    },
    {
     "data": {
      "application/vnd.jupyter.widget-view+json": {
       "model_id": "246277c9ed054906a6b78a114d39c068",
       "version_major": 2,
       "version_minor": 0
      },
      "text/plain": [
       "2:   0%|          | 0/4 [00:00<?, ?it/s]"
      ]
     },
     "metadata": {},
     "output_type": "display_data"
    },
    {
     "data": {
      "application/vnd.jupyter.widget-view+json": {
       "model_id": "453ea040fe6c470299852e5fed584640",
       "version_major": 2,
       "version_minor": 0
      },
      "text/plain": [
       "3:   0%|          | 0/4 [00:00<?, ?it/s]"
      ]
     },
     "metadata": {},
     "output_type": "display_data"
    },
    {
     "ename": "KeyboardInterrupt",
     "evalue": "",
     "output_type": "error",
     "traceback": [
      "\u001b[0;31m---------------------------------------------------------------------------\u001b[0m",
      "\u001b[0;31mKeyError\u001b[0m                                  Traceback (most recent call last)",
      "File \u001b[0;32m<frozen importlib._bootstrap>:175\u001b[0m, in \u001b[0;36m_get_module_lock\u001b[0;34m(name)\u001b[0m\n",
      "\u001b[0;31mKeyError\u001b[0m: 'torch'",
      "\nDuring handling of the above exception, another exception occurred:\n",
      "\u001b[0;31mKeyboardInterrupt\u001b[0m                         Traceback (most recent call last)",
      "\u001b[1;32m/Users/shaun/PeachIceTea/train.ipynb Cell 7'\u001b[0m in \u001b[0;36m<cell line: 19>\u001b[0;34m()\u001b[0m\n\u001b[1;32m     <a href='vscode-notebook-cell:/Users/shaun/PeachIceTea/train.ipynb#ch0000006?line=44'>45</a>\u001b[0m vinputs, vlabels \u001b[39m=\u001b[39m vdata\n\u001b[1;32m     <a href='vscode-notebook-cell:/Users/shaun/PeachIceTea/train.ipynb#ch0000006?line=45'>46</a>\u001b[0m \u001b[39mfor\u001b[39;00m vinput, vlabel \u001b[39min\u001b[39;00m \u001b[39mzip\u001b[39m(vinputs, vlabels):\n\u001b[0;32m---> <a href='vscode-notebook-cell:/Users/shaun/PeachIceTea/train.ipynb#ch0000006?line=46'>47</a>\u001b[0m     voutput \u001b[39m=\u001b[39m estimated_label(params, vinput\u001b[39m.\u001b[39;49mto(torch\u001b[39m.\u001b[39;49mfloat64))\n\u001b[1;32m     <a href='vscode-notebook-cell:/Users/shaun/PeachIceTea/train.ipynb#ch0000006?line=47'>48</a>\u001b[0m     vloss \u001b[39m+\u001b[39m\u001b[39m=\u001b[39m loss_fn(voutput, \u001b[39m2\u001b[39m\u001b[39m*\u001b[39mvlabel\u001b[39m.\u001b[39mto(torch\u001b[39m.\u001b[39mfloat64)\u001b[39m-\u001b[39m\u001b[39m1\u001b[39m)\u001b[39m/\u001b[39m\u001b[39mlen\u001b[39m(vlabels)\n\u001b[1;32m     <a href='vscode-notebook-cell:/Users/shaun/PeachIceTea/train.ipynb#ch0000006?line=48'>49</a>\u001b[0m avg_vloss \u001b[39m+\u001b[39m\u001b[39m=\u001b[39m vloss\u001b[39m.\u001b[39mitem()\n",
      "\u001b[1;32m/Users/shaun/PeachIceTea/train.ipynb Cell 7'\u001b[0m in \u001b[0;36mestimated_label\u001b[0;34m(params, data)\u001b[0m\n\u001b[1;32m     <a href='vscode-notebook-cell:/Users/shaun/PeachIceTea/train.ipynb#ch0000006?line=9'>10</a>\u001b[0m \u001b[39mdef\u001b[39;00m \u001b[39mestimated_label\u001b[39m(params, data):\n\u001b[0;32m---> <a href='vscode-notebook-cell:/Users/shaun/PeachIceTea/train.ipynb#ch0000006?line=10'>11</a>\u001b[0m     \u001b[39mreturn\u001b[39;00m circuit(params, data)\n",
      "File \u001b[0;32m~/anaconda3/envs/qiskit/lib/python3.9/site-packages/pennylane/qnode.py:619\u001b[0m, in \u001b[0;36mQNode.__call__\u001b[0;34m(self, *args, **kwargs)\u001b[0m\n\u001b[1;32m    <a href='file:///Users/shaun/anaconda3/envs/qiskit/lib/python3.9/site-packages/pennylane/qnode.py?line=611'>612</a>\u001b[0m using_custom_cache \u001b[39m=\u001b[39m (\n\u001b[1;32m    <a href='file:///Users/shaun/anaconda3/envs/qiskit/lib/python3.9/site-packages/pennylane/qnode.py?line=612'>613</a>\u001b[0m     \u001b[39mhasattr\u001b[39m(cache, \u001b[39m\"\u001b[39m\u001b[39m__getitem__\u001b[39m\u001b[39m\"\u001b[39m)\n\u001b[1;32m    <a href='file:///Users/shaun/anaconda3/envs/qiskit/lib/python3.9/site-packages/pennylane/qnode.py?line=613'>614</a>\u001b[0m     \u001b[39mand\u001b[39;00m \u001b[39mhasattr\u001b[39m(cache, \u001b[39m\"\u001b[39m\u001b[39m__setitem__\u001b[39m\u001b[39m\"\u001b[39m)\n\u001b[1;32m    <a href='file:///Users/shaun/anaconda3/envs/qiskit/lib/python3.9/site-packages/pennylane/qnode.py?line=614'>615</a>\u001b[0m     \u001b[39mand\u001b[39;00m \u001b[39mhasattr\u001b[39m(cache, \u001b[39m\"\u001b[39m\u001b[39m__delitem__\u001b[39m\u001b[39m\"\u001b[39m)\n\u001b[1;32m    <a href='file:///Users/shaun/anaconda3/envs/qiskit/lib/python3.9/site-packages/pennylane/qnode.py?line=615'>616</a>\u001b[0m )\n\u001b[1;32m    <a href='file:///Users/shaun/anaconda3/envs/qiskit/lib/python3.9/site-packages/pennylane/qnode.py?line=616'>617</a>\u001b[0m \u001b[39mself\u001b[39m\u001b[39m.\u001b[39m_tape_cached \u001b[39m=\u001b[39m using_custom_cache \u001b[39mand\u001b[39;00m \u001b[39mself\u001b[39m\u001b[39m.\u001b[39mtape\u001b[39m.\u001b[39mhash \u001b[39min\u001b[39;00m cache\n\u001b[0;32m--> <a href='file:///Users/shaun/anaconda3/envs/qiskit/lib/python3.9/site-packages/pennylane/qnode.py?line=618'>619</a>\u001b[0m res \u001b[39m=\u001b[39m qml\u001b[39m.\u001b[39;49mexecute(\n\u001b[1;32m    <a href='file:///Users/shaun/anaconda3/envs/qiskit/lib/python3.9/site-packages/pennylane/qnode.py?line=619'>620</a>\u001b[0m     [\u001b[39mself\u001b[39;49m\u001b[39m.\u001b[39;49mtape],\n\u001b[1;32m    <a href='file:///Users/shaun/anaconda3/envs/qiskit/lib/python3.9/site-packages/pennylane/qnode.py?line=620'>621</a>\u001b[0m     device\u001b[39m=\u001b[39;49m\u001b[39mself\u001b[39;49m\u001b[39m.\u001b[39;49mdevice,\n\u001b[1;32m    <a href='file:///Users/shaun/anaconda3/envs/qiskit/lib/python3.9/site-packages/pennylane/qnode.py?line=621'>622</a>\u001b[0m     gradient_fn\u001b[39m=\u001b[39;49m\u001b[39mself\u001b[39;49m\u001b[39m.\u001b[39;49mgradient_fn,\n\u001b[1;32m    <a href='file:///Users/shaun/anaconda3/envs/qiskit/lib/python3.9/site-packages/pennylane/qnode.py?line=622'>623</a>\u001b[0m     interface\u001b[39m=\u001b[39;49m\u001b[39mself\u001b[39;49m\u001b[39m.\u001b[39;49minterface,\n\u001b[1;32m    <a href='file:///Users/shaun/anaconda3/envs/qiskit/lib/python3.9/site-packages/pennylane/qnode.py?line=623'>624</a>\u001b[0m     gradient_kwargs\u001b[39m=\u001b[39;49m\u001b[39mself\u001b[39;49m\u001b[39m.\u001b[39;49mgradient_kwargs,\n\u001b[1;32m    <a href='file:///Users/shaun/anaconda3/envs/qiskit/lib/python3.9/site-packages/pennylane/qnode.py?line=624'>625</a>\u001b[0m     override_shots\u001b[39m=\u001b[39;49moverride_shots,\n\u001b[1;32m    <a href='file:///Users/shaun/anaconda3/envs/qiskit/lib/python3.9/site-packages/pennylane/qnode.py?line=625'>626</a>\u001b[0m     \u001b[39m*\u001b[39;49m\u001b[39m*\u001b[39;49m\u001b[39mself\u001b[39;49m\u001b[39m.\u001b[39;49mexecute_kwargs,\n\u001b[1;32m    <a href='file:///Users/shaun/anaconda3/envs/qiskit/lib/python3.9/site-packages/pennylane/qnode.py?line=626'>627</a>\u001b[0m )\n\u001b[1;32m    <a href='file:///Users/shaun/anaconda3/envs/qiskit/lib/python3.9/site-packages/pennylane/qnode.py?line=628'>629</a>\u001b[0m \u001b[39mif\u001b[39;00m autograd\u001b[39m.\u001b[39misinstance(res, (\u001b[39mtuple\u001b[39m, \u001b[39mlist\u001b[39m)) \u001b[39mand\u001b[39;00m \u001b[39mlen\u001b[39m(res) \u001b[39m==\u001b[39m \u001b[39m1\u001b[39m:\n\u001b[1;32m    <a href='file:///Users/shaun/anaconda3/envs/qiskit/lib/python3.9/site-packages/pennylane/qnode.py?line=629'>630</a>\u001b[0m     \u001b[39m# If a device batch transform was applied, we need to 'unpack'\u001b[39;00m\n\u001b[1;32m    <a href='file:///Users/shaun/anaconda3/envs/qiskit/lib/python3.9/site-packages/pennylane/qnode.py?line=630'>631</a>\u001b[0m     \u001b[39m# the returned tuple/list to a float.\u001b[39;00m\n\u001b[0;32m   (...)\u001b[0m\n\u001b[1;32m    <a href='file:///Users/shaun/anaconda3/envs/qiskit/lib/python3.9/site-packages/pennylane/qnode.py?line=637'>638</a>\u001b[0m     \u001b[39m# TODO: find a more explicit way of determining that a batch transform\u001b[39;00m\n\u001b[1;32m    <a href='file:///Users/shaun/anaconda3/envs/qiskit/lib/python3.9/site-packages/pennylane/qnode.py?line=638'>639</a>\u001b[0m     \u001b[39m# was applied.\u001b[39;00m\n\u001b[1;32m    <a href='file:///Users/shaun/anaconda3/envs/qiskit/lib/python3.9/site-packages/pennylane/qnode.py?line=640'>641</a>\u001b[0m     res \u001b[39m=\u001b[39m res[\u001b[39m0\u001b[39m]\n",
      "File \u001b[0;32m~/anaconda3/envs/qiskit/lib/python3.9/site-packages/pennylane/interfaces/execution.py:344\u001b[0m, in \u001b[0;36mexecute\u001b[0;34m(tapes, device, gradient_fn, interface, mode, gradient_kwargs, cache, cachesize, max_diff, override_shots, expand_fn, max_expansion, device_batch_transform)\u001b[0m\n\u001b[1;32m    <a href='file:///Users/shaun/anaconda3/envs/qiskit/lib/python3.9/site-packages/pennylane/interfaces/execution.py?line=339'>340</a>\u001b[0m     \u001b[39mreturn\u001b[39;00m batch_fn(res)\n\u001b[1;32m    <a href='file:///Users/shaun/anaconda3/envs/qiskit/lib/python3.9/site-packages/pennylane/interfaces/execution.py?line=341'>342</a>\u001b[0m \u001b[39mif\u001b[39;00m gradient_fn \u001b[39m==\u001b[39m \u001b[39m\"\u001b[39m\u001b[39mbackprop\u001b[39m\u001b[39m\"\u001b[39m \u001b[39mor\u001b[39;00m interface \u001b[39mis\u001b[39;00m \u001b[39mNone\u001b[39;00m:\n\u001b[1;32m    <a href='file:///Users/shaun/anaconda3/envs/qiskit/lib/python3.9/site-packages/pennylane/interfaces/execution.py?line=342'>343</a>\u001b[0m     \u001b[39mreturn\u001b[39;00m batch_fn(\n\u001b[0;32m--> <a href='file:///Users/shaun/anaconda3/envs/qiskit/lib/python3.9/site-packages/pennylane/interfaces/execution.py?line=343'>344</a>\u001b[0m         qml\u001b[39m.\u001b[39;49minterfaces\u001b[39m.\u001b[39;49mcache_execute(\n\u001b[1;32m    <a href='file:///Users/shaun/anaconda3/envs/qiskit/lib/python3.9/site-packages/pennylane/interfaces/execution.py?line=344'>345</a>\u001b[0m             batch_execute, cache, return_tuple\u001b[39m=\u001b[39;49m\u001b[39mFalse\u001b[39;49;00m, expand_fn\u001b[39m=\u001b[39;49mexpand_fn\n\u001b[1;32m    <a href='file:///Users/shaun/anaconda3/envs/qiskit/lib/python3.9/site-packages/pennylane/interfaces/execution.py?line=345'>346</a>\u001b[0m         )(tapes)\n\u001b[1;32m    <a href='file:///Users/shaun/anaconda3/envs/qiskit/lib/python3.9/site-packages/pennylane/interfaces/execution.py?line=346'>347</a>\u001b[0m     )\n\u001b[1;32m    <a href='file:///Users/shaun/anaconda3/envs/qiskit/lib/python3.9/site-packages/pennylane/interfaces/execution.py?line=348'>349</a>\u001b[0m \u001b[39m# the default execution function is batch_execute\u001b[39;00m\n\u001b[1;32m    <a href='file:///Users/shaun/anaconda3/envs/qiskit/lib/python3.9/site-packages/pennylane/interfaces/execution.py?line=349'>350</a>\u001b[0m execute_fn \u001b[39m=\u001b[39m qml\u001b[39m.\u001b[39minterfaces\u001b[39m.\u001b[39mcache_execute(batch_execute, cache, expand_fn\u001b[39m=\u001b[39mexpand_fn)\n",
      "File \u001b[0;32m~/anaconda3/envs/qiskit/lib/python3.9/site-packages/pennylane/interfaces/execution.py:172\u001b[0m, in \u001b[0;36mcache_execute.<locals>.wrapper\u001b[0;34m(tapes, **kwargs)\u001b[0m\n\u001b[1;32m    <a href='file:///Users/shaun/anaconda3/envs/qiskit/lib/python3.9/site-packages/pennylane/interfaces/execution.py?line=167'>168</a>\u001b[0m         \u001b[39mreturn\u001b[39;00m (res, []) \u001b[39mif\u001b[39;00m return_tuple \u001b[39melse\u001b[39;00m res\n\u001b[1;32m    <a href='file:///Users/shaun/anaconda3/envs/qiskit/lib/python3.9/site-packages/pennylane/interfaces/execution.py?line=169'>170</a>\u001b[0m \u001b[39melse\u001b[39;00m:\n\u001b[1;32m    <a href='file:///Users/shaun/anaconda3/envs/qiskit/lib/python3.9/site-packages/pennylane/interfaces/execution.py?line=170'>171</a>\u001b[0m     \u001b[39m# execute all unique tapes that do not exist in the cache\u001b[39;00m\n\u001b[0;32m--> <a href='file:///Users/shaun/anaconda3/envs/qiskit/lib/python3.9/site-packages/pennylane/interfaces/execution.py?line=171'>172</a>\u001b[0m     res \u001b[39m=\u001b[39m fn(execution_tapes\u001b[39m.\u001b[39;49mvalues(), \u001b[39m*\u001b[39;49m\u001b[39m*\u001b[39;49mkwargs)\n\u001b[1;32m    <a href='file:///Users/shaun/anaconda3/envs/qiskit/lib/python3.9/site-packages/pennylane/interfaces/execution.py?line=173'>174</a>\u001b[0m final_res \u001b[39m=\u001b[39m []\n\u001b[1;32m    <a href='file:///Users/shaun/anaconda3/envs/qiskit/lib/python3.9/site-packages/pennylane/interfaces/execution.py?line=175'>176</a>\u001b[0m \u001b[39mfor\u001b[39;00m i, tape \u001b[39min\u001b[39;00m \u001b[39menumerate\u001b[39m(tapes):\n",
      "File \u001b[0;32m~/anaconda3/envs/qiskit/lib/python3.9/site-packages/pennylane/interfaces/execution.py:97\u001b[0m, in \u001b[0;36mcache_execute.<locals>.fn\u001b[0;34m(tapes, **kwargs)\u001b[0m\n\u001b[1;32m     <a href='file:///Users/shaun/anaconda3/envs/qiskit/lib/python3.9/site-packages/pennylane/interfaces/execution.py?line=94'>95</a>\u001b[0m \u001b[39mdef\u001b[39;00m \u001b[39mfn\u001b[39m(tapes, \u001b[39m*\u001b[39m\u001b[39m*\u001b[39mkwargs):  \u001b[39m# pylint: disable=function-redefined\u001b[39;00m\n\u001b[1;32m     <a href='file:///Users/shaun/anaconda3/envs/qiskit/lib/python3.9/site-packages/pennylane/interfaces/execution.py?line=95'>96</a>\u001b[0m     tapes \u001b[39m=\u001b[39m [expand_fn(tape) \u001b[39mfor\u001b[39;00m tape \u001b[39min\u001b[39;00m tapes]\n\u001b[0;32m---> <a href='file:///Users/shaun/anaconda3/envs/qiskit/lib/python3.9/site-packages/pennylane/interfaces/execution.py?line=96'>97</a>\u001b[0m     \u001b[39mreturn\u001b[39;00m original_fn(tapes, \u001b[39m*\u001b[39;49m\u001b[39m*\u001b[39;49mkwargs)\n",
      "File \u001b[0;32m~/anaconda3/envs/qiskit/lib/python3.9/contextlib.py:79\u001b[0m, in \u001b[0;36mContextDecorator.__call__.<locals>.inner\u001b[0;34m(*args, **kwds)\u001b[0m\n\u001b[1;32m     <a href='file:///Users/shaun/anaconda3/envs/qiskit/lib/python3.9/contextlib.py?line=75'>76</a>\u001b[0m \u001b[39m@wraps\u001b[39m(func)\n\u001b[1;32m     <a href='file:///Users/shaun/anaconda3/envs/qiskit/lib/python3.9/contextlib.py?line=76'>77</a>\u001b[0m \u001b[39mdef\u001b[39;00m \u001b[39minner\u001b[39m(\u001b[39m*\u001b[39margs, \u001b[39m*\u001b[39m\u001b[39m*\u001b[39mkwds):\n\u001b[1;32m     <a href='file:///Users/shaun/anaconda3/envs/qiskit/lib/python3.9/contextlib.py?line=77'>78</a>\u001b[0m     \u001b[39mwith\u001b[39;00m \u001b[39mself\u001b[39m\u001b[39m.\u001b[39m_recreate_cm():\n\u001b[0;32m---> <a href='file:///Users/shaun/anaconda3/envs/qiskit/lib/python3.9/contextlib.py?line=78'>79</a>\u001b[0m         \u001b[39mreturn\u001b[39;00m func(\u001b[39m*\u001b[39;49margs, \u001b[39m*\u001b[39;49m\u001b[39m*\u001b[39;49mkwds)\n",
      "File \u001b[0;32m~/anaconda3/envs/qiskit/lib/python3.9/site-packages/pennylane/_qubit_device.py:355\u001b[0m, in \u001b[0;36mQubitDevice.batch_execute\u001b[0;34m(self, circuits)\u001b[0m\n\u001b[1;32m    <a href='file:///Users/shaun/anaconda3/envs/qiskit/lib/python3.9/site-packages/pennylane/_qubit_device.py?line=349'>350</a>\u001b[0m \u001b[39mfor\u001b[39;00m circuit \u001b[39min\u001b[39;00m circuits:\n\u001b[1;32m    <a href='file:///Users/shaun/anaconda3/envs/qiskit/lib/python3.9/site-packages/pennylane/_qubit_device.py?line=350'>351</a>\u001b[0m     \u001b[39m# we need to reset the device here, else it will\u001b[39;00m\n\u001b[1;32m    <a href='file:///Users/shaun/anaconda3/envs/qiskit/lib/python3.9/site-packages/pennylane/_qubit_device.py?line=351'>352</a>\u001b[0m     \u001b[39m# not start the next computation in the zero state\u001b[39;00m\n\u001b[1;32m    <a href='file:///Users/shaun/anaconda3/envs/qiskit/lib/python3.9/site-packages/pennylane/_qubit_device.py?line=352'>353</a>\u001b[0m     \u001b[39mself\u001b[39m\u001b[39m.\u001b[39mreset()\n\u001b[0;32m--> <a href='file:///Users/shaun/anaconda3/envs/qiskit/lib/python3.9/site-packages/pennylane/_qubit_device.py?line=354'>355</a>\u001b[0m     res \u001b[39m=\u001b[39m \u001b[39mself\u001b[39;49m\u001b[39m.\u001b[39;49mexecute(circuit)\n\u001b[1;32m    <a href='file:///Users/shaun/anaconda3/envs/qiskit/lib/python3.9/site-packages/pennylane/_qubit_device.py?line=355'>356</a>\u001b[0m     results\u001b[39m.\u001b[39mappend(res)\n\u001b[1;32m    <a href='file:///Users/shaun/anaconda3/envs/qiskit/lib/python3.9/site-packages/pennylane/_qubit_device.py?line=357'>358</a>\u001b[0m \u001b[39mif\u001b[39;00m \u001b[39mself\u001b[39m\u001b[39m.\u001b[39mtracker\u001b[39m.\u001b[39mactive:\n",
      "File \u001b[0;32m~/anaconda3/envs/qiskit/lib/python3.9/site-packages/pennylane/devices/default_qubit_torch.py:233\u001b[0m, in \u001b[0;36mDefaultQubitTorch.execute\u001b[0;34m(self, circuit, **kwargs)\u001b[0m\n\u001b[1;32m    <a href='file:///Users/shaun/anaconda3/envs/qiskit/lib/python3.9/site-packages/pennylane/devices/default_qubit_torch.py?line=223'>224</a>\u001b[0m         \u001b[39mif\u001b[39;00m params_cuda_device \u001b[39m!=\u001b[39m specified_device_cuda:\n\u001b[1;32m    <a href='file:///Users/shaun/anaconda3/envs/qiskit/lib/python3.9/site-packages/pennylane/devices/default_qubit_torch.py?line=225'>226</a>\u001b[0m             warnings\u001b[39m.\u001b[39mwarn(\n\u001b[1;32m    <a href='file:///Users/shaun/anaconda3/envs/qiskit/lib/python3.9/site-packages/pennylane/devices/default_qubit_torch.py?line=226'>227</a>\u001b[0m                 \u001b[39mf\u001b[39m\u001b[39m\"\u001b[39m\u001b[39mTorch device \u001b[39m\u001b[39m{\u001b[39;00m\u001b[39mself\u001b[39m\u001b[39m.\u001b[39m_torch_device\u001b[39m}\u001b[39;00m\u001b[39m specified \u001b[39m\u001b[39m\"\u001b[39m\n\u001b[1;32m    <a href='file:///Users/shaun/anaconda3/envs/qiskit/lib/python3.9/site-packages/pennylane/devices/default_qubit_torch.py?line=227'>228</a>\u001b[0m                 \u001b[39m\"\u001b[39m\u001b[39mupon PennyLane device creation does not match the \u001b[39m\u001b[39m\"\u001b[39m\n\u001b[1;32m    <a href='file:///Users/shaun/anaconda3/envs/qiskit/lib/python3.9/site-packages/pennylane/devices/default_qubit_torch.py?line=228'>229</a>\u001b[0m                 \u001b[39m\"\u001b[39m\u001b[39mTorch device of the gate parameters; \u001b[39m\u001b[39m\"\u001b[39m\n\u001b[1;32m    <a href='file:///Users/shaun/anaconda3/envs/qiskit/lib/python3.9/site-packages/pennylane/devices/default_qubit_torch.py?line=229'>230</a>\u001b[0m                 \u001b[39mf\u001b[39m\u001b[39m\"\u001b[39m\u001b[39m{\u001b[39;00m\u001b[39mself\u001b[39m\u001b[39m.\u001b[39m_torch_device\u001b[39m}\u001b[39;00m\u001b[39m will be used.\u001b[39m\u001b[39m\"\u001b[39m\n\u001b[1;32m    <a href='file:///Users/shaun/anaconda3/envs/qiskit/lib/python3.9/site-packages/pennylane/devices/default_qubit_torch.py?line=230'>231</a>\u001b[0m             )\n\u001b[0;32m--> <a href='file:///Users/shaun/anaconda3/envs/qiskit/lib/python3.9/site-packages/pennylane/devices/default_qubit_torch.py?line=232'>233</a>\u001b[0m \u001b[39mreturn\u001b[39;00m \u001b[39msuper\u001b[39;49m()\u001b[39m.\u001b[39;49mexecute(circuit, \u001b[39m*\u001b[39;49m\u001b[39m*\u001b[39;49mkwargs)\n",
      "File \u001b[0;32m~/anaconda3/envs/qiskit/lib/python3.9/site-packages/pennylane/_qubit_device.py:257\u001b[0m, in \u001b[0;36mQubitDevice.execute\u001b[0;34m(self, circuit, **kwargs)\u001b[0m\n\u001b[1;32m    <a href='file:///Users/shaun/anaconda3/envs/qiskit/lib/python3.9/site-packages/pennylane/_qubit_device.py?line=253'>254</a>\u001b[0m \u001b[39mself\u001b[39m\u001b[39m.\u001b[39mcheck_validity(circuit\u001b[39m.\u001b[39moperations, circuit\u001b[39m.\u001b[39mobservables)\n\u001b[1;32m    <a href='file:///Users/shaun/anaconda3/envs/qiskit/lib/python3.9/site-packages/pennylane/_qubit_device.py?line=255'>256</a>\u001b[0m \u001b[39m# apply all circuit operations\u001b[39;00m\n\u001b[0;32m--> <a href='file:///Users/shaun/anaconda3/envs/qiskit/lib/python3.9/site-packages/pennylane/_qubit_device.py?line=256'>257</a>\u001b[0m \u001b[39mself\u001b[39;49m\u001b[39m.\u001b[39;49mapply(circuit\u001b[39m.\u001b[39;49moperations, rotations\u001b[39m=\u001b[39;49mcircuit\u001b[39m.\u001b[39;49mdiagonalizing_gates, \u001b[39m*\u001b[39;49m\u001b[39m*\u001b[39;49mkwargs)\n\u001b[1;32m    <a href='file:///Users/shaun/anaconda3/envs/qiskit/lib/python3.9/site-packages/pennylane/_qubit_device.py?line=258'>259</a>\u001b[0m \u001b[39m# generate computational basis samples\u001b[39;00m\n\u001b[1;32m    <a href='file:///Users/shaun/anaconda3/envs/qiskit/lib/python3.9/site-packages/pennylane/_qubit_device.py?line=259'>260</a>\u001b[0m \u001b[39mif\u001b[39;00m \u001b[39mself\u001b[39m\u001b[39m.\u001b[39mshots \u001b[39mis\u001b[39;00m \u001b[39mnot\u001b[39;00m \u001b[39mNone\u001b[39;00m \u001b[39mor\u001b[39;00m circuit\u001b[39m.\u001b[39mis_sampled:\n",
      "File \u001b[0;32m~/anaconda3/envs/qiskit/lib/python3.9/site-packages/pennylane/devices/default_qubit.py:231\u001b[0m, in \u001b[0;36mDefaultQubit.apply\u001b[0;34m(self, operations, rotations, **kwargs)\u001b[0m\n\u001b[1;32m    <a href='file:///Users/shaun/anaconda3/envs/qiskit/lib/python3.9/site-packages/pennylane/devices/default_qubit.py?line=228'>229</a>\u001b[0m                 \u001b[39mself\u001b[39m\u001b[39m.\u001b[39m_debugger\u001b[39m.\u001b[39msnapshots[\u001b[39mlen\u001b[39m(\u001b[39mself\u001b[39m\u001b[39m.\u001b[39m_debugger\u001b[39m.\u001b[39msnapshots)] \u001b[39m=\u001b[39m state_vector\n\u001b[1;32m    <a href='file:///Users/shaun/anaconda3/envs/qiskit/lib/python3.9/site-packages/pennylane/devices/default_qubit.py?line=229'>230</a>\u001b[0m     \u001b[39melse\u001b[39;00m:\n\u001b[0;32m--> <a href='file:///Users/shaun/anaconda3/envs/qiskit/lib/python3.9/site-packages/pennylane/devices/default_qubit.py?line=230'>231</a>\u001b[0m         \u001b[39mself\u001b[39m\u001b[39m.\u001b[39m_state \u001b[39m=\u001b[39m \u001b[39mself\u001b[39;49m\u001b[39m.\u001b[39;49m_apply_operation(\u001b[39mself\u001b[39;49m\u001b[39m.\u001b[39;49m_state, operation)\n\u001b[1;32m    <a href='file:///Users/shaun/anaconda3/envs/qiskit/lib/python3.9/site-packages/pennylane/devices/default_qubit.py?line=232'>233</a>\u001b[0m \u001b[39m# store the pre-rotated state\u001b[39;00m\n\u001b[1;32m    <a href='file:///Users/shaun/anaconda3/envs/qiskit/lib/python3.9/site-packages/pennylane/devices/default_qubit.py?line=233'>234</a>\u001b[0m \u001b[39mself\u001b[39m\u001b[39m.\u001b[39m_pre_rotated_state \u001b[39m=\u001b[39m \u001b[39mself\u001b[39m\u001b[39m.\u001b[39m_state\n",
      "File \u001b[0;32m~/anaconda3/envs/qiskit/lib/python3.9/site-packages/pennylane/devices/default_qubit.py:258\u001b[0m, in \u001b[0;36mDefaultQubit._apply_operation\u001b[0;34m(self, state, operation)\u001b[0m\n\u001b[1;32m    <a href='file:///Users/shaun/anaconda3/envs/qiskit/lib/python3.9/site-packages/pennylane/devices/default_qubit.py?line=254'>255</a>\u001b[0m     axes \u001b[39m=\u001b[39m \u001b[39mself\u001b[39m\u001b[39m.\u001b[39mwires\u001b[39m.\u001b[39mindices(wires)\n\u001b[1;32m    <a href='file:///Users/shaun/anaconda3/envs/qiskit/lib/python3.9/site-packages/pennylane/devices/default_qubit.py?line=255'>256</a>\u001b[0m     \u001b[39mreturn\u001b[39;00m \u001b[39mself\u001b[39m\u001b[39m.\u001b[39m_apply_ops[operation\u001b[39m.\u001b[39mbase_name](state, axes, inverse\u001b[39m=\u001b[39moperation\u001b[39m.\u001b[39minverse)\n\u001b[0;32m--> <a href='file:///Users/shaun/anaconda3/envs/qiskit/lib/python3.9/site-packages/pennylane/devices/default_qubit.py?line=257'>258</a>\u001b[0m matrix \u001b[39m=\u001b[39m \u001b[39mself\u001b[39m\u001b[39m.\u001b[39m_asarray(\u001b[39mself\u001b[39;49m\u001b[39m.\u001b[39;49m_get_unitary_matrix(operation), dtype\u001b[39m=\u001b[39m\u001b[39mself\u001b[39m\u001b[39m.\u001b[39mC_DTYPE)\n\u001b[1;32m    <a href='file:///Users/shaun/anaconda3/envs/qiskit/lib/python3.9/site-packages/pennylane/devices/default_qubit.py?line=259'>260</a>\u001b[0m \u001b[39mif\u001b[39;00m operation \u001b[39min\u001b[39;00m diagonal_in_z_basis:\n\u001b[1;32m    <a href='file:///Users/shaun/anaconda3/envs/qiskit/lib/python3.9/site-packages/pennylane/devices/default_qubit.py?line=260'>261</a>\u001b[0m     \u001b[39mreturn\u001b[39;00m \u001b[39mself\u001b[39m\u001b[39m.\u001b[39m_apply_diagonal_unitary(state, matrix, wires)\n",
      "File \u001b[0;32m~/anaconda3/envs/qiskit/lib/python3.9/site-packages/pennylane/devices/default_qubit_torch.py:305\u001b[0m, in \u001b[0;36mDefaultQubitTorch._get_unitary_matrix\u001b[0;34m(self, unitary)\u001b[0m\n\u001b[1;32m    <a href='file:///Users/shaun/anaconda3/envs/qiskit/lib/python3.9/site-packages/pennylane/devices/default_qubit_torch.py?line=302'>303</a>\u001b[0m \u001b[39mif\u001b[39;00m unitary \u001b[39min\u001b[39;00m diagonal_in_z_basis:\n\u001b[1;32m    <a href='file:///Users/shaun/anaconda3/envs/qiskit/lib/python3.9/site-packages/pennylane/devices/default_qubit_torch.py?line=303'>304</a>\u001b[0m     \u001b[39mreturn\u001b[39;00m \u001b[39mself\u001b[39m\u001b[39m.\u001b[39m_asarray(unitary\u001b[39m.\u001b[39meigvals(), dtype\u001b[39m=\u001b[39m\u001b[39mself\u001b[39m\u001b[39m.\u001b[39mC_DTYPE)\n\u001b[0;32m--> <a href='file:///Users/shaun/anaconda3/envs/qiskit/lib/python3.9/site-packages/pennylane/devices/default_qubit_torch.py?line=304'>305</a>\u001b[0m \u001b[39mreturn\u001b[39;00m \u001b[39mself\u001b[39m\u001b[39m.\u001b[39m_asarray(unitary\u001b[39m.\u001b[39;49mmatrix(), dtype\u001b[39m=\u001b[39m\u001b[39mself\u001b[39m\u001b[39m.\u001b[39mC_DTYPE)\n",
      "File \u001b[0;32m~/anaconda3/envs/qiskit/lib/python3.9/site-packages/pennylane/operation.py:1414\u001b[0m, in \u001b[0;36mOperation.matrix\u001b[0;34m(self, wire_order)\u001b[0m\n\u001b[1;32m   <a href='file:///Users/shaun/anaconda3/envs/qiskit/lib/python3.9/site-packages/pennylane/operation.py?line=1412'>1413</a>\u001b[0m \u001b[39mdef\u001b[39;00m \u001b[39mmatrix\u001b[39m(\u001b[39mself\u001b[39m, wire_order\u001b[39m=\u001b[39m\u001b[39mNone\u001b[39;00m):\n\u001b[0;32m-> <a href='file:///Users/shaun/anaconda3/envs/qiskit/lib/python3.9/site-packages/pennylane/operation.py?line=1413'>1414</a>\u001b[0m     canonical_matrix \u001b[39m=\u001b[39m \u001b[39mself\u001b[39;49m\u001b[39m.\u001b[39;49mcompute_matrix(\u001b[39m*\u001b[39;49m\u001b[39mself\u001b[39;49m\u001b[39m.\u001b[39;49mparameters, \u001b[39m*\u001b[39;49m\u001b[39m*\u001b[39;49m\u001b[39mself\u001b[39;49m\u001b[39m.\u001b[39;49mhyperparameters)\n\u001b[1;32m   <a href='file:///Users/shaun/anaconda3/envs/qiskit/lib/python3.9/site-packages/pennylane/operation.py?line=1415'>1416</a>\u001b[0m     \u001b[39mif\u001b[39;00m \u001b[39mself\u001b[39m\u001b[39m.\u001b[39minverse:\n\u001b[1;32m   <a href='file:///Users/shaun/anaconda3/envs/qiskit/lib/python3.9/site-packages/pennylane/operation.py?line=1416'>1417</a>\u001b[0m         canonical_matrix \u001b[39m=\u001b[39m qml\u001b[39m.\u001b[39mmath\u001b[39m.\u001b[39mconj(qml\u001b[39m.\u001b[39mmath\u001b[39m.\u001b[39mmoveaxis(canonical_matrix, \u001b[39m-\u001b[39m\u001b[39m2\u001b[39m, \u001b[39m-\u001b[39m\u001b[39m1\u001b[39m))\n",
      "File \u001b[0;32m~/anaconda3/envs/qiskit/lib/python3.9/site-packages/pennylane/ops/qubit/parametric_ops.py:198\u001b[0m, in \u001b[0;36mRY.compute_matrix\u001b[0;34m(theta)\u001b[0m\n\u001b[1;32m    <a href='file:///Users/shaun/anaconda3/envs/qiskit/lib/python3.9/site-packages/pennylane/ops/qubit/parametric_ops.py?line=195'>196</a>\u001b[0m c \u001b[39m=\u001b[39m (\u001b[39m1\u001b[39m \u001b[39m+\u001b[39m \u001b[39m0\u001b[39mj) \u001b[39m*\u001b[39m c\n\u001b[1;32m    <a href='file:///Users/shaun/anaconda3/envs/qiskit/lib/python3.9/site-packages/pennylane/ops/qubit/parametric_ops.py?line=196'>197</a>\u001b[0m s \u001b[39m=\u001b[39m (\u001b[39m1\u001b[39m \u001b[39m+\u001b[39m \u001b[39m0\u001b[39mj) \u001b[39m*\u001b[39m s\n\u001b[0;32m--> <a href='file:///Users/shaun/anaconda3/envs/qiskit/lib/python3.9/site-packages/pennylane/ops/qubit/parametric_ops.py?line=197'>198</a>\u001b[0m \u001b[39mreturn\u001b[39;00m qml\u001b[39m.\u001b[39;49mmath\u001b[39m.\u001b[39;49mstack([stack_last([c, \u001b[39m-\u001b[39;49ms]), stack_last([s, c])], axis\u001b[39m=\u001b[39;49m\u001b[39m-\u001b[39;49m\u001b[39m2\u001b[39;49m)\n",
      "File \u001b[0;32m~/anaconda3/envs/qiskit/lib/python3.9/site-packages/pennylane/math/multi_dispatch.py:178\u001b[0m, in \u001b[0;36mmulti_dispatch.<locals>.decorator.<locals>.wrapper\u001b[0;34m(*args, **kwargs)\u001b[0m\n\u001b[1;32m    <a href='file:///Users/shaun/anaconda3/envs/qiskit/lib/python3.9/site-packages/pennylane/math/multi_dispatch.py?line=174'>175</a>\u001b[0m interface \u001b[39m=\u001b[39m interface \u001b[39mor\u001b[39;00m _multi_dispatch(dispatch_args)\n\u001b[1;32m    <a href='file:///Users/shaun/anaconda3/envs/qiskit/lib/python3.9/site-packages/pennylane/math/multi_dispatch.py?line=175'>176</a>\u001b[0m kwargs[\u001b[39m\"\u001b[39m\u001b[39mlike\u001b[39m\u001b[39m\"\u001b[39m] \u001b[39m=\u001b[39m interface\n\u001b[0;32m--> <a href='file:///Users/shaun/anaconda3/envs/qiskit/lib/python3.9/site-packages/pennylane/math/multi_dispatch.py?line=177'>178</a>\u001b[0m \u001b[39mreturn\u001b[39;00m fn(\u001b[39m*\u001b[39;49margs, \u001b[39m*\u001b[39;49m\u001b[39m*\u001b[39;49mkwargs)\n",
      "File \u001b[0;32m~/anaconda3/envs/qiskit/lib/python3.9/site-packages/pennylane/math/multi_dispatch.py:506\u001b[0m, in \u001b[0;36mstack\u001b[0;34m(values, axis, like)\u001b[0m\n\u001b[1;32m    <a href='file:///Users/shaun/anaconda3/envs/qiskit/lib/python3.9/site-packages/pennylane/math/multi_dispatch.py?line=475'>476</a>\u001b[0m \u001b[39m@multi_dispatch\u001b[39m(argnum\u001b[39m=\u001b[39m[\u001b[39m0\u001b[39m], tensor_list\u001b[39m=\u001b[39m[\u001b[39m0\u001b[39m])\n\u001b[1;32m    <a href='file:///Users/shaun/anaconda3/envs/qiskit/lib/python3.9/site-packages/pennylane/math/multi_dispatch.py?line=476'>477</a>\u001b[0m \u001b[39mdef\u001b[39;00m \u001b[39mstack\u001b[39m(values, axis\u001b[39m=\u001b[39m\u001b[39m0\u001b[39m, like\u001b[39m=\u001b[39m\u001b[39mNone\u001b[39;00m):\n\u001b[1;32m    <a href='file:///Users/shaun/anaconda3/envs/qiskit/lib/python3.9/site-packages/pennylane/math/multi_dispatch.py?line=477'>478</a>\u001b[0m     \u001b[39m\"\"\"Stack a sequence of tensors along the specified axis.\u001b[39;00m\n\u001b[1;32m    <a href='file:///Users/shaun/anaconda3/envs/qiskit/lib/python3.9/site-packages/pennylane/math/multi_dispatch.py?line=478'>479</a>\u001b[0m \n\u001b[1;32m    <a href='file:///Users/shaun/anaconda3/envs/qiskit/lib/python3.9/site-packages/pennylane/math/multi_dispatch.py?line=479'>480</a>\u001b[0m \u001b[39m    .. warning::\u001b[39;00m\n\u001b[0;32m   (...)\u001b[0m\n\u001b[1;32m    <a href='file:///Users/shaun/anaconda3/envs/qiskit/lib/python3.9/site-packages/pennylane/math/multi_dispatch.py?line=503'>504</a>\u001b[0m \u001b[39m           [5.00e+00, 8.00e+00, 1.01e+02]], dtype=float32)>\u001b[39;00m\n\u001b[1;32m    <a href='file:///Users/shaun/anaconda3/envs/qiskit/lib/python3.9/site-packages/pennylane/math/multi_dispatch.py?line=504'>505</a>\u001b[0m \u001b[39m    \"\"\"\u001b[39;00m\n\u001b[0;32m--> <a href='file:///Users/shaun/anaconda3/envs/qiskit/lib/python3.9/site-packages/pennylane/math/multi_dispatch.py?line=505'>506</a>\u001b[0m     values \u001b[39m=\u001b[39m np\u001b[39m.\u001b[39;49mcoerce(values, like\u001b[39m=\u001b[39;49mlike)\n\u001b[1;32m    <a href='file:///Users/shaun/anaconda3/envs/qiskit/lib/python3.9/site-packages/pennylane/math/multi_dispatch.py?line=506'>507</a>\u001b[0m     \u001b[39mreturn\u001b[39;00m np\u001b[39m.\u001b[39mstack(values, axis\u001b[39m=\u001b[39maxis, like\u001b[39m=\u001b[39mlike)\n",
      "File \u001b[0;32m~/anaconda3/envs/qiskit/lib/python3.9/site-packages/autoray/autoray.py:85\u001b[0m, in \u001b[0;36mdo\u001b[0;34m(fn, like, *args, **kwargs)\u001b[0m\n\u001b[1;32m     <a href='file:///Users/shaun/anaconda3/envs/qiskit/lib/python3.9/site-packages/autoray/autoray.py?line=81'>82</a>\u001b[0m \u001b[39melse\u001b[39;00m:\n\u001b[1;32m     <a href='file:///Users/shaun/anaconda3/envs/qiskit/lib/python3.9/site-packages/autoray/autoray.py?line=82'>83</a>\u001b[0m     backend \u001b[39m=\u001b[39m infer_backend(like)\n\u001b[0;32m---> <a href='file:///Users/shaun/anaconda3/envs/qiskit/lib/python3.9/site-packages/autoray/autoray.py?line=84'>85</a>\u001b[0m \u001b[39mreturn\u001b[39;00m get_lib_fn(backend, fn)(\u001b[39m*\u001b[39;49margs, \u001b[39m*\u001b[39;49m\u001b[39m*\u001b[39;49mkwargs)\n",
      "File \u001b[0;32m~/anaconda3/envs/qiskit/lib/python3.9/site-packages/pennylane/math/single_dispatch.py:456\u001b[0m, in \u001b[0;36m_coerce_types_torch\u001b[0;34m(tensors)\u001b[0m\n\u001b[1;32m    <a href='file:///Users/shaun/anaconda3/envs/qiskit/lib/python3.9/site-packages/pennylane/math/single_dispatch.py?line=452'>453</a>\u001b[0m \u001b[39mdef\u001b[39;00m \u001b[39m_coerce_types_torch\u001b[39m(tensors):\n\u001b[1;32m    <a href='file:///Users/shaun/anaconda3/envs/qiskit/lib/python3.9/site-packages/pennylane/math/single_dispatch.py?line=453'>454</a>\u001b[0m     \u001b[39m\"\"\"Coerce a list of tensors to all have the same dtype\u001b[39;00m\n\u001b[1;32m    <a href='file:///Users/shaun/anaconda3/envs/qiskit/lib/python3.9/site-packages/pennylane/math/single_dispatch.py?line=454'>455</a>\u001b[0m \u001b[39m    without any loss of information.\"\"\"\u001b[39;00m\n\u001b[0;32m--> <a href='file:///Users/shaun/anaconda3/envs/qiskit/lib/python3.9/site-packages/pennylane/math/single_dispatch.py?line=455'>456</a>\u001b[0m     torch \u001b[39m=\u001b[39m _i(\u001b[39m\"\u001b[39;49m\u001b[39mtorch\u001b[39;49m\u001b[39m\"\u001b[39;49m)\n\u001b[1;32m    <a href='file:///Users/shaun/anaconda3/envs/qiskit/lib/python3.9/site-packages/pennylane/math/single_dispatch.py?line=457'>458</a>\u001b[0m     \u001b[39m# Extract existing set devices, if any\u001b[39;00m\n\u001b[1;32m    <a href='file:///Users/shaun/anaconda3/envs/qiskit/lib/python3.9/site-packages/pennylane/math/single_dispatch.py?line=458'>459</a>\u001b[0m     device_set \u001b[39m=\u001b[39m \u001b[39mset\u001b[39m(t\u001b[39m.\u001b[39mdevice \u001b[39mfor\u001b[39;00m t \u001b[39min\u001b[39;00m tensors \u001b[39mif\u001b[39;00m \u001b[39misinstance\u001b[39m(t, torch\u001b[39m.\u001b[39mTensor))\n",
      "File \u001b[0;32m~/anaconda3/envs/qiskit/lib/python3.9/site-packages/pennylane/math/single_dispatch.py:33\u001b[0m, in \u001b[0;36m_i\u001b[0;34m(name)\u001b[0m\n\u001b[1;32m     <a href='file:///Users/shaun/anaconda3/envs/qiskit/lib/python3.9/site-packages/pennylane/math/single_dispatch.py?line=29'>30</a>\u001b[0m \u001b[39mif\u001b[39;00m name \u001b[39m==\u001b[39m \u001b[39m\"\u001b[39m\u001b[39mqml\u001b[39m\u001b[39m\"\u001b[39m:\n\u001b[1;32m     <a href='file:///Users/shaun/anaconda3/envs/qiskit/lib/python3.9/site-packages/pennylane/math/single_dispatch.py?line=30'>31</a>\u001b[0m     \u001b[39mreturn\u001b[39;00m import_module(\u001b[39m\"\u001b[39m\u001b[39mpennylane\u001b[39m\u001b[39m\"\u001b[39m)\n\u001b[0;32m---> <a href='file:///Users/shaun/anaconda3/envs/qiskit/lib/python3.9/site-packages/pennylane/math/single_dispatch.py?line=32'>33</a>\u001b[0m \u001b[39mreturn\u001b[39;00m import_module(name)\n",
      "File \u001b[0;32m~/anaconda3/envs/qiskit/lib/python3.9/importlib/__init__.py:127\u001b[0m, in \u001b[0;36mimport_module\u001b[0;34m(name, package)\u001b[0m\n\u001b[1;32m    <a href='file:///Users/shaun/anaconda3/envs/qiskit/lib/python3.9/importlib/__init__.py?line=124'>125</a>\u001b[0m             \u001b[39mbreak\u001b[39;00m\n\u001b[1;32m    <a href='file:///Users/shaun/anaconda3/envs/qiskit/lib/python3.9/importlib/__init__.py?line=125'>126</a>\u001b[0m         level \u001b[39m+\u001b[39m\u001b[39m=\u001b[39m \u001b[39m1\u001b[39m\n\u001b[0;32m--> <a href='file:///Users/shaun/anaconda3/envs/qiskit/lib/python3.9/importlib/__init__.py?line=126'>127</a>\u001b[0m \u001b[39mreturn\u001b[39;00m _bootstrap\u001b[39m.\u001b[39;49m_gcd_import(name[level:], package, level)\n",
      "File \u001b[0;32m<frozen importlib._bootstrap>:1030\u001b[0m, in \u001b[0;36m_gcd_import\u001b[0;34m(name, package, level)\u001b[0m\n",
      "File \u001b[0;32m<frozen importlib._bootstrap>:1004\u001b[0m, in \u001b[0;36m_find_and_load\u001b[0;34m(name, import_)\u001b[0m\n",
      "File \u001b[0;32m<frozen importlib._bootstrap>:157\u001b[0m, in \u001b[0;36m__enter__\u001b[0;34m(self)\u001b[0m\n",
      "File \u001b[0;32m<frozen importlib._bootstrap>:175\u001b[0m, in \u001b[0;36m_get_module_lock\u001b[0;34m(name)\u001b[0m\n",
      "\u001b[0;31mKeyboardInterrupt\u001b[0m: "
     ]
    }
   ],
   "source": [
    "from tqdm.notebook import tqdm\n",
    "import logging\n",
    "import datetime\n",
    "from pathlib import Path\n",
    "\n",
    "loggername = f'{str(datetime.datetime.now())}'\n",
    "filepath = Path(f'./experiment_results/{loggername}')\n",
    "filepath.mkdir(parents=True, exist_ok=True)\n",
    "\n",
    "def estimated_label(params, data):\n",
    "    return circuit(params, data) # TODO: customize your extimated label\n",
    "\n",
    "writer = SummaryWriter(log_dir='./runs')\n",
    "\n",
    "loss_list = []\n",
    "avg_loss_list = []\n",
    "avg_vloss_list = []\n",
    "history_of_parameters = []\n",
    "for epoch in range(EPOCHS):\n",
    "    avg_loss = 0.0\n",
    "    for i, data in tqdm(enumerate(training_loader), total=len(training_loader), desc=f\"{epoch+1}\"):\n",
    "        inputs, labels = data\n",
    "        optimizer.zero_grad()\n",
    "        loss = torch.tensor(0, dtype=torch.float64)\n",
    "        for input, label in zip(inputs, labels):\n",
    "            output = estimated_label(params, input.to(torch.float64))\n",
    "            loss+=loss_fn(output, 2*label.to(torch.float64)-1)/len(labels)\n",
    "        loss.backward()       \n",
    "        optimizer.step()\n",
    "        avg_loss += loss.item()\n",
    "        loss_list.append(loss.item())\n",
    "        writer.add_scalar('local training loss', loss.item(), epoch*len(training_loader)+i)\n",
    "        np.save(filepath/f'epoch{epoch}_iter{epoch*len(training_loader)+i}', params.detach().numpy())\n",
    "        # logger.debug(\"epoch: {} batch_index: {} --- loss: {} \\t params: {}\".format(epoch+1, i+1, loss.item(), params.detach().numpy()))\n",
    "\n",
    "\n",
    "    avg_loss = avg_loss/len(training_loader)\n",
    "    avg_loss_list.append(avg_loss)\n",
    "    \n",
    "    \n",
    "    with torch.no_grad():\n",
    "        avg_vloss = 0.0\n",
    "        for i, vdata in enumerate(test_loader):\n",
    "            vloss = torch.tensor(0, dtype=torch.float64)\n",
    "            vinputs, vlabels = vdata\n",
    "            for vinput, vlabel in zip(vinputs, vlabels):\n",
    "                voutput = estimated_label(params, vinput.to(torch.float64))\n",
    "                vloss += loss_fn(voutput, 2*vlabel.to(torch.float64)-1)/len(vlabels)\n",
    "            avg_vloss += vloss.item()\n",
    "        avg_vloss = avg_vloss/len(test_loader)\n",
    "        avg_vloss_list.append(avg_vloss)\n",
    "        history_of_parameters.append(params.numpy())\n",
    "        np.save(filepath/f'vaidataion_epoch{epoch}', params.numpy())\n",
    "    # print('LOSS train {} valid {}'.format(avg_loss, avg_vloss))\n",
    "\n",
    "    # Log the running loss averaged per batch\n",
    "    # for both training and test\n",
    "    writer.add_scalar('validation Loss', avg_vloss, epoch)\n",
    "    writer.flush()\n",
    "        # print('{}: {}'.format(i, loss.item()))\n"
   ]
  },
  {
   "cell_type": "code",
   "execution_count": null,
   "metadata": {},
   "outputs": [
    {
     "name": "stdout",
     "output_type": "stream",
     "text": [
      "0.9130434782608695\n"
     ]
    }
   ],
   "source": [
    "with torch.no_grad():\n",
    "    est_labels = []\n",
    "    true_labels = []\n",
    "    for i, data in enumerate(test_loader):\n",
    "        test_datas, labels = data\n",
    "        for label, test_data in zip(labels, test_datas):\n",
    "            est_labels.append(estimated_label(params, test_data).numpy()>0)\n",
    "            true_labels.append(label.numpy())\n",
    "\n",
    "    accuracy = sum(np.array(est_labels)==np.array(true_labels))/len(est_labels)\n",
    "    accuracy = accuracy.item()\n",
    "    print(accuracy)"
   ]
  },
  {
   "cell_type": "code",
   "execution_count": null,
   "metadata": {},
   "outputs": [],
   "source": [
    "import json\n",
    "\n",
    "with open(filepath/'summary.json', 'w') as fp:\n",
    "    json.dump(dict(\n",
    "        accuracy=accuracy,\n",
    "        loss=loss_list,\n",
    "        avg_loss = avg_loss_list,\n",
    "        avg_vloss = avg_vloss_list,\n",
    "    ), fp=fp)"
   ]
  },
  {
   "cell_type": "code",
   "execution_count": null,
   "metadata": {},
   "outputs": [],
   "source": []
  }
 ],
 "metadata": {
  "interpreter": {
   "hash": "b62b6089cd174fcd23de5a2ba1f03f98164a35935839c99f5cfe650d529eeaec"
  },
  "kernelspec": {
   "display_name": "Python 3.9.12 ('qiskit')",
   "language": "python",
   "name": "python3"
  },
  "language_info": {
   "codemirror_mode": {
    "name": "ipython",
    "version": 3
   },
   "file_extension": ".py",
   "mimetype": "text/x-python",
   "name": "python",
   "nbconvert_exporter": "python",
   "pygments_lexer": "ipython3",
   "version": "3.9.12"
  },
  "orig_nbformat": 4
 },
 "nbformat": 4,
 "nbformat_minor": 2
}
