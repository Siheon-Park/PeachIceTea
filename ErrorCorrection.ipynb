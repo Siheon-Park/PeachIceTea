{
 "cells": [
  {
   "cell_type": "code",
   "execution_count": 8,
   "metadata": {},
   "outputs": [],
   "source": [
    "import pennylane as qml\n",
    "import pennylane.numpy as np\n",
    "\n",
    "# PyTorch TensorBoard support\n",
    "from torch.utils.tensorboard import SummaryWriter\n",
    "from datetime import datetime"
   ]
  },
  {
   "cell_type": "code",
   "execution_count": 9,
   "metadata": {},
   "outputs": [],
   "source": [
    "EPOCHS = 100\n",
    "SEED = 16\n",
    "P = 0.25"
   ]
  },
  {
   "cell_type": "code",
   "execution_count": 10,
   "metadata": {},
   "outputs": [],
   "source": [
    "def PoolingCirc(weights, wires):\n",
    "    qml.CRY(weights[0], wires = wires)\n",
    "    qml.PauliX(wires[0])\n",
    "    qml.CRY(weights[1], wires = wires)\n",
    "    qml.PauliX(wires[0])\n",
    "\n",
    "def ConvCirc1(weights, wires):\n",
    "    qml.RY(weights[0], wires = wires[0])\n",
    "    qml.RY(weights[1], wires = wires[1])\n",
    "    qml.CNOT(wires = wires)"
   ]
  },
  {
   "cell_type": "code",
   "execution_count": 11,
   "metadata": {},
   "outputs": [],
   "source": [
    "# from ansatz import ConvCirc1, PoolingCirc\n",
    "\n",
    "inputs = ['+X','-X','+Y','-Y','+Z','-Z']\n",
    "\n",
    "dev = qml.device(\"default.mixed\", wires = 4)\n",
    "\n",
    "@qml.qnode(dev, interface='autograd')\n",
    "def circuit(conv_ansatz, pooling_ansatz, params, data, p):\n",
    "\n",
    "    if data not in inputs:\n",
    "        raise ValueError('Invalid Input')\n",
    "\n",
    "    # Data encoding\n",
    "    if data == '+X':\n",
    "        qml.Hadamard(wires=0)\n",
    "    elif data == '-X':\n",
    "        qml.PauliX(wires=0)\n",
    "        qml.Hadamard(wires=0)\n",
    "    elif data == '+Y':\n",
    "        qml.RX(-np.pi/2, wires = 0)\n",
    "    elif data == '-Y':\n",
    "        qml.RX(np.pi/2, wires=0)\n",
    "    elif data == '-Z':\n",
    "        qml.PauliX(wires = 0)\n",
    "\n",
    "    # Shor Encoding\n",
    "    qml.CNOT(wires = [0,1])\n",
    "    qml.CNOT(wires = [0,2])\n",
    "\n",
    "    #Error Generating\n",
    "    for qidx in range(3):\n",
    "        qml.DepolarizingChannel(p, wires=qidx, do_queue=True, id=None)\n",
    "\n",
    "    #QCNN\n",
    "    ConvCirc1(params[0:2], wires = [0, 1])  \n",
    "    ConvCirc1(params[2:4], wires = [2, 3])    \n",
    "    ConvCirc1(params[4:6], wires = [1, 2])\n",
    "    ConvCirc1(params[6:8], wires = [3, 0])\n",
    "\n",
    "    PoolingCirc(params[8:10], wires = [0, 1])\n",
    "    PoolingCirc(params[10:12], wires = [2, 3])\n",
    "\n",
    "    ConvCirc1(params[12:14], wires = [1, 3])\n",
    "    PoolingCirc(params[14:16], wires = [1, 3])\n",
    "\n",
    "    #adjoint\n",
    "    if data == '+X':\n",
    "        qml.adjoint(qml.Hadamard)(wires=0)\n",
    "    elif data == '-X':\n",
    "        qml.adjoint(qml.Hadamard)(wires=0)\n",
    "        qml.adjoint(qml.PauliX)(wires=0)\n",
    "    elif data == '+Y':\n",
    "        qml.adjoint(qml.RX)(-np.pi/2, wires = 0)\n",
    "    elif data == '-Y':\n",
    "        qml.adjoint(qml.RX)(np.pi/2, wires=0)\n",
    "    elif data == '-Z':\n",
    "        qml.adjoint(qml.PauliX)(wires = 0)\n",
    "\n",
    "    return qml.expval(qml.PauliZ(3))"
   ]
  },
  {
   "cell_type": "code",
   "execution_count": 12,
   "metadata": {},
   "outputs": [],
   "source": [
    "def cost(params):\n",
    "    batch = inputs\n",
    "    conv_ansatz = ConvCirc1\n",
    "    pooling_ansatz = PoolingCirc\n",
    "    p = P\n",
    "    lossvalue = 0\n",
    "    for data in batch:\n",
    "        lossvalue += circuit(conv_ansatz, pooling_ansatz, params, data, p)\n",
    "    return -1 * lossvalue / len(batch)"
   ]
  },
  {
   "cell_type": "code",
   "execution_count": 13,
   "metadata": {},
   "outputs": [],
   "source": [
    "params = np.random.rand(16, requires_grad=True) # TODO: choose params length\n",
    "optimizer = qml.AdamOptimizer(stepsize = 0.01)"
   ]
  },
  {
   "cell_type": "code",
   "execution_count": 14,
   "metadata": {},
   "outputs": [
    {
     "name": "stdout",
     "output_type": "stream",
     "text": [
      "0\n",
      "1\n",
      "2\n",
      "3\n"
     ]
    }
   ],
   "source": [
    "import logging\n",
    "import datetime\n",
    "import os\n",
    "\n",
    "filepath = './experiment_results'\n",
    "if os.path.exists(filepath)==False:\n",
    "    os.makedirs(filepath)\n",
    "\n",
    "writer = SummaryWriter(log_dir='./QEC_Sim')\n",
    "\n",
    "for epoch in range(EPOCHS):\n",
    "    params, loss = optimizer.step_and_cost(cost, params)\n",
    "    writer.add_scalar('training loss', loss.item(), epoch)\n",
    "    np.save(filepath+'/'+f'epoch{epoch}', params)\n",
    "    \n",
    "    writer.flush()\n"
   ]
  },
  {
   "cell_type": "code",
   "execution_count": null,
   "metadata": {},
   "outputs": [],
   "source": []
  }
 ],
 "metadata": {
  "kernelspec": {
   "display_name": "Python 3.9.12 ('base')",
   "language": "python",
   "name": "python3"
  },
  "language_info": {
   "codemirror_mode": {
    "name": "ipython",
    "version": 3
   },
   "file_extension": ".py",
   "mimetype": "text/x-python",
   "name": "python",
   "nbconvert_exporter": "python",
   "pygments_lexer": "ipython3",
   "version": "3.9.12"
  },
  "orig_nbformat": 4,
  "vscode": {
   "interpreter": {
    "hash": "7a15bcec7c0559c62175669ec6b991fdfb120f79b3044ee904eb55b269f77428"
   }
  }
 },
 "nbformat": 4,
 "nbformat_minor": 2
}
